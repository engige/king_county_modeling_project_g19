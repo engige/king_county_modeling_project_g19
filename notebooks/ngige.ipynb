{
 "cells": [
  {
   "cell_type": "markdown",
   "metadata": {},
   "source": [
    "## Step 1: Data Understanding"
   ]
  },
  {
   "cell_type": "code",
   "execution_count": 5,
   "metadata": {},
   "outputs": [
    {
     "name": "stdout",
     "output_type": "stream",
     "text": [
      "# Column Names and descriptions for Kings County Data Set\n",
      "* **id** - unique identified for a house\n",
      "* **dateDate** - house was sold\n",
      "* **pricePrice** -  is prediction target\n",
      "* **bedroomsNumber** -  of Bedrooms/House\n",
      "* **bathroomsNumber** -  of bathrooms/bedrooms\n",
      "* **sqft_livingsquare** -  footage of the home\n",
      "* **sqft_lotsquare** -  footage of the lot\n",
      "* **floorsTotal** -  floors (levels) in house\n",
      "* **waterfront** - House which has a view to a waterfront\n",
      "* **view** - Has been viewed\n",
      "* **condition** - How good the condition is ( Overall )\n",
      "* **grade** - overall grade given to the housing unit, based on King County grading system\n",
      "* **sqft_above** - square footage of house apart from basement\n",
      "* **sqft_basement** - square footage of the basement\n",
      "* **yr_built** - Built Year\n",
      "* **yr_renovated** - Year when house was renovated\n",
      "* **zipcode** - zip\n",
      "* **lat** - Latitude coordinate\n",
      "* **long** - Longitude coordinate\n",
      "* **sqft_living15** - The square footage of interior housing living space for the nearest 15 neighbors\n",
      "* **sqft_lot15** - The square footage of the land lots of the nearest 15 neighbors\n",
      "\n"
     ]
    }
   ],
   "source": [
    "# Import libraries\n",
    "import pandas as pd\n",
    "import numpy as np\n",
    "import matplotlib.pyplot as plt\n",
    "import seaborn as sns\n",
    "from sklearn.model_selection import train_test_split\n",
    "from sklearn.preprocessing import StandardScaler\n",
    "from sklearn.linear_model import LinearRegression\n",
    "from sklearn.metrics import mean_absolute_error, mean_squared_error, r2_score\n",
    "\n",
    "# Load the dataset\n",
    "df = pd.read_csv('../data/kc_house_data.csv')\n",
    "\n",
    "# Reading the column descriptions\n",
    "with open('../data/column_names.md', 'r') as file:\n",
    "    column_descriptions = file.read()\n",
    "\n",
    "print(column_descriptions)"
   ]
  }
 ],
 "metadata": {
  "kernelspec": {
   "display_name": "learn-env",
   "language": "python",
   "name": "python3"
  },
  "language_info": {
   "codemirror_mode": {
    "name": "ipython",
    "version": 3
   },
   "file_extension": ".py",
   "mimetype": "text/x-python",
   "name": "python",
   "nbconvert_exporter": "python",
   "pygments_lexer": "ipython3",
   "version": "3.8.5"
  }
 },
 "nbformat": 4,
 "nbformat_minor": 2
}
